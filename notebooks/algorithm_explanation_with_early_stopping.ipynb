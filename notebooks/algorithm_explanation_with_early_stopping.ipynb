{
 "cells": [
  {
   "cell_type": "code",
   "execution_count": 13,
   "metadata": {},
   "outputs": [],
   "source": [
    "import string\n",
    "import sys\n",
    "import itertools\n",
    "import random\n",
    "from helpers.players import Player\n",
    "from functools import reduce\n",
    "from operator import mul"
   ]
  },
  {
   "cell_type": "markdown",
   "metadata": {},
   "source": [
    "## Setup\n",
    "\n",
    "If most people have 2-3 roles available, the number of available combinations can grow really high. For example, if we have 24 players and each can have all three roles, the number is `3 ** 24` which equals `282429536481`.\n",
    "\n",
    "In this case, since everyone can do anything, we could simply just shuffle the `players` list and pick first `n` as tanks, following `n` as healers and rest as DDs.\n",
    "\n",
    "Thus, we can introduce an early stopping condition.\n",
    "\n",
    "## Pick 20 players\n",
    "\n",
    "Let's start by generating 20 players who **all** can tank and DD, but only about half can heal."
   ]
  },
  {
   "cell_type": "code",
   "execution_count": 113,
   "metadata": {},
   "outputs": [],
   "source": [
    "# How many players to create\n",
    "n = 4 * 5\n",
    "\n",
    "# ASCII Letters\n",
    "a_z = string.ascii_letters\n",
    "\n",
    "# Container\n",
    "players = []\n",
    "\n",
    "# Add the first players as can-do-all\n",
    "players.append(Player(name=\"primus\", can_tank=True, can_dd=True, can_heal=True))\n",
    "\n",
    "for i in range(n - 1):\n",
    "    p = Player(\n",
    "        name=a_z[i], \n",
    "        can_tank=True, \n",
    "        can_dd=True, \n",
    "        can_heal=bool(random.getrandbits(1)))\n",
    "    players.append(p)"
   ]
  },
  {
   "cell_type": "markdown",
   "metadata": {},
   "source": [
    "## Find out n of combinations"
   ]
  },
  {
   "cell_type": "code",
   "execution_count": 114,
   "metadata": {},
   "outputs": [
    {
     "data": {
      "text/plain": [
       "[3, 2, 3, 3, 3, 2, 2, 3, 2, 3, 2, 2, 3, 2, 2, 3, 2, 3, 3, 2]"
      ]
     },
     "execution_count": 114,
     "metadata": {},
     "output_type": "execute_result"
    }
   ],
   "source": [
    "[len(p.roles) or 1 for p in players]"
   ]
  },
  {
   "cell_type": "code",
   "execution_count": 115,
   "metadata": {},
   "outputs": [
    {
     "name": "stdout",
     "output_type": "stream",
     "text": [
      "[INFO] The players can have 60,466,176 different role combinations\n"
     ]
    }
   ],
   "source": [
    "n_combinations = reduce(mul, [len(p.roles) or 1 for p in players])\n",
    "\n",
    "print(f\"[INFO] The players can have {n_combinations:,} different role combinations\")"
   ]
  },
  {
   "cell_type": "markdown",
   "metadata": {},
   "source": [
    "## Find group size\n",
    "\n",
    "Depending on how many players we have and what roles they have available, we can create `n_groups` number of groups. For example, if we had 100 players but only two could tank, the `n_groups` would be `min(n_tanks)`."
   ]
  },
  {
   "cell_type": "code",
   "execution_count": 116,
   "metadata": {},
   "outputs": [
    {
     "data": {
      "text/plain": [
       "[['tank', 'heal', 'dd'],\n",
       " ['tank', 'dd'],\n",
       " ['tank', 'heal', 'dd'],\n",
       " ['tank', 'heal', 'dd'],\n",
       " ['tank', 'heal', 'dd'],\n",
       " ['tank', 'dd'],\n",
       " ['tank', 'dd'],\n",
       " ['tank', 'heal', 'dd'],\n",
       " ['tank', 'dd'],\n",
       " ['tank', 'heal', 'dd'],\n",
       " ['tank', 'dd'],\n",
       " ['tank', 'dd'],\n",
       " ['tank', 'heal', 'dd'],\n",
       " ['tank', 'dd'],\n",
       " ['tank', 'dd'],\n",
       " ['tank', 'heal', 'dd'],\n",
       " ['tank', 'dd'],\n",
       " ['tank', 'heal', 'dd'],\n",
       " ['tank', 'heal', 'dd'],\n",
       " ['tank', 'dd']]"
      ]
     },
     "execution_count": 116,
     "metadata": {},
     "output_type": "execute_result"
    }
   ],
   "source": [
    "# List of lists. Each list element contains one player's roles as strings.\n",
    "player_roles = [p.roles for p in players]\n",
    "\n",
    "player_roles"
   ]
  },
  {
   "cell_type": "code",
   "execution_count": 117,
   "metadata": {},
   "outputs": [],
   "source": [
    "# Store largest c found. This will be the number of groups we can create.\n",
    "n_groups = 0\n",
    "\n",
    "for i, c in enumerate(itertools.product(*player_roles)):\n",
    "    \n",
    "    # Check how many groups could we create of this role combination\n",
    "    c_candidate = min(c.count('tank'), c.count('heal'), c.count('dd') // 2)\n",
    "    \n",
    "    # Store if highest known\n",
    "    if n_groups < c_candidate:\n",
    "        n_groups = c_candidate\n",
    "    \n",
    "    # Early stopping.\n",
    "    if i > 10**7:\n",
    "        break"
   ]
  },
  {
   "cell_type": "code",
   "execution_count": 118,
   "metadata": {},
   "outputs": [
    {
     "name": "stdout",
     "output_type": "stream",
     "text": [
      "[INFO] According to the first billion rows, we can create this many groups: 5\n"
     ]
    }
   ],
   "source": [
    "print(\"[INFO] According to the first billion rows, we can create this many groups:\", n_groups)"
   ]
  },
  {
   "cell_type": "markdown",
   "metadata": {},
   "source": [
    "## Product to find potential group compositions"
   ]
  },
  {
   "cell_type": "code",
   "execution_count": 128,
   "metadata": {},
   "outputs": [],
   "source": [
    "# Store\n",
    "potential_roles = []\n",
    "\n",
    "# Stopping condition: 100k\n",
    "role_store_early_stopping = 10**5\n",
    "\n",
    "for i, c in enumerate(itertools.product(*player_roles)):\n",
    "    \n",
    "    # Check how many groups could we create of this role combination\n",
    "    c_candidate = min(c.count('tank'), c.count('heal'), c.count('dd') // 2)\n",
    "    \n",
    "    if c_candidate == n_groups:\n",
    "        potential_roles.append(c)\n",
    "    \n",
    "    # Early stopping\n",
    "    if len(potential_roles) > 10**5:\n",
    "        break"
   ]
  },
  {
   "cell_type": "code",
   "execution_count": 129,
   "metadata": {},
   "outputs": [
    {
     "name": "stdout",
     "output_type": "stream",
     "text": [
      "[INFO] The first 10 group compositions look like this:\n",
      "tank, tank, tank, tank, tank, dd, dd, heal, dd, heal, dd, dd, heal, dd, dd, heal, dd, heal, dd, dd\n",
      "tank, tank, tank, tank, tank, dd, dd, heal, dd, heal, dd, dd, heal, dd, dd, heal, dd, dd, heal, dd\n",
      "tank, tank, tank, tank, tank, dd, dd, heal, dd, heal, dd, dd, heal, dd, dd, dd, dd, heal, heal, dd\n",
      "tank, tank, tank, tank, tank, dd, dd, heal, dd, heal, dd, dd, dd, dd, dd, heal, dd, heal, heal, dd\n",
      "tank, tank, tank, tank, tank, dd, dd, heal, dd, dd, dd, dd, heal, dd, dd, heal, dd, heal, heal, dd\n",
      "tank, tank, tank, tank, tank, dd, dd, dd, dd, heal, dd, dd, heal, dd, dd, heal, dd, heal, heal, dd\n",
      "tank, tank, tank, tank, heal, tank, dd, heal, dd, heal, dd, dd, heal, dd, dd, heal, dd, dd, dd, dd\n",
      "tank, tank, tank, tank, heal, tank, dd, heal, dd, heal, dd, dd, heal, dd, dd, dd, dd, heal, dd, dd\n",
      "tank, tank, tank, tank, heal, tank, dd, heal, dd, heal, dd, dd, heal, dd, dd, dd, dd, dd, heal, dd\n",
      "tank, tank, tank, tank, heal, tank, dd, heal, dd, heal, dd, dd, dd, dd, dd, heal, dd, heal, dd, dd\n"
     ]
    }
   ],
   "source": [
    "print(\"[INFO] The first 10 group compositions look like this:\")\n",
    "for i in range(10):\n",
    "    print(\", \".join(potential_roles[i]))"
   ]
  },
  {
   "cell_type": "code",
   "execution_count": 130,
   "metadata": {},
   "outputs": [
    {
     "name": "stdout",
     "output_type": "stream",
     "text": [
      "[INFO] The last 10 group compositions look like this:\n",
      "tank, tank, tank, tank, tank, dd, dd, heal, dd, heal, dd, dd, heal, dd, dd, heal, dd, heal, dd, dd\n",
      "tank, dd, dd, tank, heal, dd, dd, tank, dd, heal, dd, dd, heal, dd, tank, dd, dd, heal, heal, tank\n",
      "tank, dd, dd, tank, heal, dd, dd, tank, dd, heal, dd, dd, heal, dd, tank, dd, tank, heal, heal, dd\n",
      "tank, dd, dd, tank, heal, dd, dd, tank, dd, heal, dd, dd, heal, dd, tank, heal, dd, dd, heal, tank\n",
      "tank, dd, dd, tank, heal, dd, dd, tank, dd, heal, dd, dd, heal, dd, tank, heal, dd, heal, dd, tank\n",
      "tank, dd, dd, tank, heal, dd, dd, tank, dd, heal, dd, dd, heal, dd, tank, heal, dd, heal, tank, dd\n",
      "tank, dd, dd, tank, heal, dd, dd, tank, dd, heal, dd, dd, heal, dd, tank, heal, dd, tank, heal, dd\n",
      "tank, dd, dd, tank, heal, dd, dd, tank, dd, heal, dd, dd, heal, dd, tank, heal, tank, dd, heal, dd\n",
      "tank, dd, dd, tank, heal, dd, dd, tank, dd, heal, dd, dd, heal, dd, tank, heal, tank, heal, dd, dd\n",
      "tank, dd, dd, tank, heal, dd, dd, tank, dd, heal, dd, dd, heal, dd, tank, tank, dd, heal, heal, dd\n"
     ]
    }
   ],
   "source": [
    "print(\"[INFO] The last 10 group compositions look like this:\")\n",
    "for i in range(10):\n",
    "    print(\", \".join(potential_roles[-i]))"
   ]
  },
  {
   "cell_type": "markdown",
   "metadata": {},
   "source": [
    "## Inspect potential problems\n",
    "\n",
    "As we can see below, we can end up in a situation where our early stopping condition was too harsh. We do NOT have all possible combinations. Even worse, we do not know how many we are missing."
   ]
  },
  {
   "cell_type": "code",
   "execution_count": 141,
   "metadata": {},
   "outputs": [
    {
     "name": "stdout",
     "output_type": "stream",
     "text": [
      "[INFO] The claim that we meat the early stopping condition is:  True\n"
     ]
    }
   ],
   "source": [
    "cond_met = len(potential_roles) > role_store_early_stopping\n",
    "print(\"[INFO] The claim that we meat the early stopping condition is: \", cond_met)"
   ]
  },
  {
   "cell_type": "markdown",
   "metadata": {},
   "source": [
    "## First player inspection\n",
    "\n",
    "The first player should have a chance of ending up as a DD or a Healer. Is this true? Let's find out how many lottery tickets does this Primus have for various roles."
   ]
  },
  {
   "cell_type": "code",
   "execution_count": 149,
   "metadata": {},
   "outputs": [
    {
     "name": "stdout",
     "output_type": "stream",
     "text": [
      "[INFO] Our Primus has: \n",
      "100001 lottery tickets for tanking\n",
      "     0 lottery tickets for tanking\n",
      "     0 lottery tickets for tanking\n"
     ]
    }
   ],
   "source": [
    "ttt = 0\n",
    "ttd = 0\n",
    "tth = 0\n",
    "\n",
    "for i in range(len(potential_roles)):\n",
    "    if potential_roles[i][0] == 'tank':\n",
    "        ttt +=1\n",
    "    elif potential_roles[i][0] == 'dd':\n",
    "        ttd += 1\n",
    "    else:\n",
    "        tth += 1\n",
    "        \n",
    "print(\"[INFO] Our Primus has: \")\n",
    "print(f\"{ttt:>6} lottery tickets for tanking\")\n",
    "print(f\"{ttd:>6} lottery tickets for tanking\")\n",
    "print(f\"{tth:>6} lottery tickets for tanking\")"
   ]
  },
  {
   "cell_type": "markdown",
   "metadata": {},
   "source": [
    "## Simple solution\n",
    "\n",
    "This stops being a problem if we do either or both:\n",
    "* Shuffle the players list before running the algorithm\n",
    "* Increase the early stopping condition\n",
    "\n",
    "Latter is problematic. We might end up in OutOfMemory errors. Thus, let's simply shuffle the players list."
   ]
  },
  {
   "cell_type": "code",
   "execution_count": 152,
   "metadata": {},
   "outputs": [],
   "source": [
    "cmax_early_stopping = 10 ** 7\n",
    "role_store_early_stopping = 10 ** 5\n",
    "\n",
    "players_copy = players.copy()\n",
    "\n",
    "random.shuffle(players_copy)\n",
    "\n",
    "# List of lists. Each list element contains one player's roles as strings.\n",
    "player_roles = [p.roles for p in players_copy]\n",
    "\n",
    "# Store largest candidate found. Start value.\n",
    "n_groups = 0\n",
    "\n",
    "for i, c in enumerate(itertools.product(*player_roles)):\n",
    "\n",
    "    # Check how many groups could we create of this role combination\n",
    "    c_candidate = min(c.count('tank'), c.count('heal'), c.count('dd') // 2)\n",
    "\n",
    "    # Store if highest known\n",
    "    if n_groups < c_candidate:\n",
    "        n_groups = c_candidate\n",
    "\n",
    "    # Early stopping.\n",
    "    if i > cmax_early_stopping:\n",
    "        break\n",
    "\n",
    "# Container for potential role combinations\n",
    "potential_roles = []\n",
    "\n",
    "for i, c in enumerate(itertools.product(*player_roles)):\n",
    "\n",
    "    # Check how many groups could we create of this role combination\n",
    "    c_candidate = min(c.count('tank'), c.count('heal'), c.count('dd') // 2)\n",
    "\n",
    "    # Keep condition\n",
    "    if c_candidate == n_groups:\n",
    "        potential_roles.append(c)\n",
    "\n",
    "    # Early stopping\n",
    "    if len(potential_roles) > role_store_early_stopping:\n",
    "        break\n",
    "\n",
    "# Choose list of roles\n",
    "chosen_roles = random.choice(potential_roles)\n",
    "\n",
    "for player, role in zip(players_copy, chosen_roles):\n",
    "    # Tell Player that it is in roster\n",
    "    player.reserve(role)"
   ]
  },
  {
   "cell_type": "code",
   "execution_count": 165,
   "metadata": {},
   "outputs": [
    {
     "name": "stdout",
     "output_type": "stream",
     "text": [
      "         q : tank\n",
      "         p : dd\n",
      "         m : tank\n",
      "         n : dd\n",
      "         k : dd\n",
      "         j : dd\n",
      "         h : tank\n",
      "         g : dd\n",
      "         a : tank\n",
      "    primus : heal\n",
      "         i : dd\n",
      "         s : dd\n",
      "         r : heal\n",
      "         b : heal\n",
      "         l : dd\n",
      "         e : dd\n",
      "         c : dd\n",
      "         o : heal\n",
      "         f : tank\n",
      "         d : heal\n"
     ]
    }
   ],
   "source": [
    "for p in players_copy:\n",
    "    print(f\"{p.name:>10} : {p.chosen_role}\")"
   ]
  },
  {
   "cell_type": "markdown",
   "metadata": {},
   "source": [
    "## Last step\n",
    "\n",
    "The last step is to pick 5 tanks, 5 healers and 10 DD's into different groups. Since the list is shuffled, we can simply perform this in order."
   ]
  }
 ],
 "metadata": {
  "kernelspec": {
   "display_name": "Python 3 (ipykernel)",
   "language": "python",
   "name": "python3"
  },
  "language_info": {
   "codemirror_mode": {
    "name": "ipython",
    "version": 3
   },
   "file_extension": ".py",
   "mimetype": "text/x-python",
   "name": "python",
   "nbconvert_exporter": "python",
   "pygments_lexer": "ipython3",
   "version": "3.10.1"
  }
 },
 "nbformat": 4,
 "nbformat_minor": 1
}
