{
 "cells": [
  {
   "cell_type": "markdown",
   "metadata": {},
   "source": [
    "# How group roles are being picked?\n",
    "\n",
    "The first cell simply loads the Players from the Excel file."
   ]
  },
  {
   "cell_type": "code",
   "execution_count": 51,
   "metadata": {},
   "outputs": [],
   "source": [
    "import itertools\n",
    "import random\n",
    "from helpers.players import PlayerPool\n",
    "\n",
    "MAGIC_NUMBER = 1\n",
    "FILE = '../data/20220218.xlsx'\n",
    "\n",
    "# Instantiate the rosters of: Tanks, Healers and DDs\n",
    "pool = PlayerPool(FILE, seed=MAGIC_NUMBER)\n",
    "\n",
    "player_roles = [p.roles for p in pool.players]"
   ]
  },
  {
   "cell_type": "markdown",
   "metadata": {},
   "source": [
    "## Combinations\n",
    "\n",
    "Fetch the product of all roles.\n",
    "\n",
    "Example:\n",
    "* First player can be: Tank, DD\n",
    "* The second player can be: Tank, DD, Healer\n",
    "\n",
    "These two can make 6 different combos:\n",
    "```\n",
    "[('Tank', 'Tank'),\n",
    " ('Tank', 'DD'),\n",
    " ('Tank', 'Healer'),\n",
    " ('DD', 'Tank'),\n",
    " ('DD', 'DD'),\n",
    " ('DD', 'Healer')]\n",
    "```"
   ]
  },
  {
   "cell_type": "code",
   "execution_count": 52,
   "metadata": {},
   "outputs": [
    {
     "name": "stdout",
     "output_type": "stream",
     "text": [
      "[INFO] The 19 players can wear different roles in 7776 different combinations\n"
     ]
    }
   ],
   "source": [
    "# Product of all roles\n",
    "all_role_combinations = list(itertools.product(*player_roles))\n",
    "\n",
    "\n",
    "print(f\"[INFO] The {len(player_roles)} players can wear different roles in {len(all_role_combinations)} different combinations\")"
   ]
  },
  {
   "cell_type": "markdown",
   "metadata": {},
   "source": [
    "## Calculate maximum group size\n",
    "\n",
    "There will be role sets that create less groups than others. For example, if everyone got the role `DD` by random, we could not create any groups. Each group requires at least 1 tank and 1 healer."
   ]
  },
  {
   "cell_type": "code",
   "execution_count": 53,
   "metadata": {},
   "outputs": [
    {
     "name": "stdout",
     "output_type": "stream",
     "text": [
      "[INFO] First 10 role shuffles could create groups sized:  [3, 3, 4, 3, 3, 4, 4, 4, 4, 3]\n",
      "[INFO] Maximum size group we can create is  4\n"
     ]
    }
   ],
   "source": [
    "# Container for search results\n",
    "all_role_combination_group_sizes = []\n",
    "\n",
    "for c in all_combinations:\n",
    "    # Check how many groups we could create with this combination\n",
    "    c_min = min(c.count('tank'), c.count('heal'), c.count('dd') // 2)\n",
    "    \n",
    "    all_role_combination_group_sizes.append(c_min)\n",
    "\n",
    "# This is the correct\n",
    "n_groups = max(all_role_combination_group_sizes)\n",
    "\n",
    "print(\"[INFO] First 10 role shuffles could create groups sized: \", all_role_combination_group_sizes[:10])\n",
    "print(\"[INFO] Maximum size group we can create is \", n_groups)"
   ]
  },
  {
   "cell_type": "markdown",
   "metadata": {},
   "source": [
    "## Keep only good role compositions\n",
    "\n",
    "Skip the role compositions that create less then `n_group` groups - which in this case happens to be 4."
   ]
  },
  {
   "cell_type": "code",
   "execution_count": 54,
   "metadata": {},
   "outputs": [
    {
     "name": "stdout",
     "output_type": "stream",
     "text": [
      "[INFO] The first 20 potential role compositions are:\n",
      "tank,tank,tank,tank,heal,heal,heal,heal,heal,dd,dd,dd,dd,dd,dd,dd,tank,tank,dd\n",
      "tank,tank,tank,tank,heal,heal,heal,heal,heal,dd,dd,dd,dd,dd,dd,dd,tank,heal,dd\n",
      "tank,tank,tank,tank,heal,heal,heal,heal,heal,dd,dd,dd,dd,dd,dd,dd,tank,dd,tank\n",
      "tank,tank,tank,tank,heal,heal,heal,heal,heal,dd,dd,dd,dd,dd,dd,dd,tank,dd,heal\n",
      "tank,tank,tank,tank,heal,heal,heal,heal,heal,dd,dd,dd,dd,dd,dd,dd,tank,dd,dd\n",
      "tank,tank,tank,tank,heal,heal,heal,heal,heal,dd,dd,dd,dd,dd,dd,dd,heal,tank,dd\n",
      "tank,tank,tank,tank,heal,heal,heal,heal,heal,dd,dd,dd,dd,dd,dd,dd,heal,heal,dd\n",
      "tank,tank,tank,tank,heal,heal,heal,heal,heal,dd,dd,dd,dd,dd,dd,dd,heal,dd,tank\n",
      "tank,tank,tank,tank,heal,heal,heal,heal,heal,dd,dd,dd,dd,dd,dd,dd,heal,dd,heal\n",
      "tank,tank,tank,tank,heal,heal,heal,heal,heal,dd,dd,dd,dd,dd,dd,dd,heal,dd,dd\n",
      "tank,tank,tank,tank,heal,heal,heal,heal,heal,dd,dd,dd,dd,dd,dd,dd,dd,tank,tank\n",
      "tank,tank,tank,tank,heal,heal,heal,heal,heal,dd,dd,dd,dd,dd,dd,dd,dd,tank,heal\n",
      "tank,tank,tank,tank,heal,heal,heal,heal,heal,dd,dd,dd,dd,dd,dd,dd,dd,tank,dd\n",
      "tank,tank,tank,tank,heal,heal,heal,heal,heal,dd,dd,dd,dd,dd,dd,dd,dd,heal,tank\n",
      "tank,tank,tank,tank,heal,heal,heal,heal,heal,dd,dd,dd,dd,dd,dd,dd,dd,heal,heal\n",
      "tank,tank,tank,tank,heal,heal,heal,heal,heal,dd,dd,dd,dd,dd,dd,dd,dd,heal,dd\n",
      "tank,tank,tank,tank,heal,heal,heal,heal,heal,dd,dd,dd,dd,dd,dd,dd,dd,dd,tank\n",
      "tank,tank,tank,tank,heal,heal,heal,heal,heal,dd,dd,dd,dd,dd,dd,dd,dd,dd,heal\n",
      "tank,tank,tank,tank,heal,heal,heal,heal,heal,dd,dd,dd,dd,dd,dd,dd,dd,dd,dd\n",
      "tank,tank,tank,tank,heal,heal,dd,heal,heal,dd,dd,dd,dd,dd,dd,dd,tank,tank,tank\n"
     ]
    }
   ],
   "source": [
    "# Container for search results\n",
    "potential_roles = []\n",
    "\n",
    "for x, y in zip(all_role_combinations, all_role_combination_group_sizes):\n",
    "        if y == n_groups:\n",
    "            potential_roles.append(x)\n",
    "            \n",
    "            \n",
    "print(\"[INFO] The first 20 potential role compositions are:\")\n",
    "\n",
    "for i in range(20):\n",
    "    print(\",\".join(potential_roles[i]))"
   ]
  },
  {
   "cell_type": "markdown",
   "metadata": {},
   "source": [
    "## Choose one by random"
   ]
  },
  {
   "cell_type": "code",
   "execution_count": 55,
   "metadata": {},
   "outputs": [],
   "source": [
    "# Use the same random seed as before\n",
    "random.seed(MAGIC_NUMBER)\n",
    "\n",
    "# Randomize. Pick one.\n",
    "chosen_combination = random.choice(potential_roles)"
   ]
  },
  {
   "cell_type": "code",
   "execution_count": 61,
   "metadata": {},
   "outputs": [
    {
     "name": "stdout",
     "output_type": "stream",
     "text": [
      "[INFO] The winning row is:\n",
      "tank, tank, tank, heal, dd, dd, heal, heal, heal, dd, dd, dd, dd, dd, dd, dd, tank, heal, heal\n"
     ]
    }
   ],
   "source": [
    "print(\"[INFO] The winning row is:\")\n",
    "print(\", \".join(chosen_combination))"
   ]
  },
  {
   "cell_type": "markdown",
   "metadata": {},
   "source": [
    "## Compare against names"
   ]
  },
  {
   "cell_type": "code",
   "execution_count": 68,
   "metadata": {},
   "outputs": [
    {
     "name": "stdout",
     "output_type": "stream",
     "text": [
      "                 Paha-Vaatturi tank\n",
      "                    sanderotin tank\n",
      "                        bojack tank\n",
      "                  Greedyuchica heal\n",
      "                        Chuuko dd\n",
      "                        Erakko dd\n",
      "                    Tuulisiipi heal\n",
      "                        Rotten heal\n",
      "                         Lacus heal\n",
      "                   Kinkeroinen dd\n",
      "                  Humppaharkki dd\n",
      "                         croco dd\n",
      "                       Taranie dd\n",
      "                           Eve dd\n",
      "                          Jyrb dd\n",
      "                      Mirakkle dd\n",
      "                     Tortumous tank\n",
      "                         Raven heal\n",
      "                   h4eart_mind heal\n"
     ]
    }
   ],
   "source": [
    "for p, role in zip(players, chosen_combination):\n",
    "    print(f\"{p.name:>30} {role:}\")"
   ]
  }
 ],
 "metadata": {
  "kernelspec": {
   "display_name": "Python 3 (ipykernel)",
   "language": "python",
   "name": "python3"
  },
  "language_info": {
   "codemirror_mode": {
    "name": "ipython",
    "version": 3
   },
   "file_extension": ".py",
   "mimetype": "text/x-python",
   "name": "python",
   "nbconvert_exporter": "python",
   "pygments_lexer": "ipython3",
   "version": "3.10.1"
  }
 },
 "nbformat": 4,
 "nbformat_minor": 1
}
